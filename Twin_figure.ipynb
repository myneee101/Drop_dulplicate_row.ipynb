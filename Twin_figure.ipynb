{
  "nbformat": 4,
  "nbformat_minor": 0,
  "metadata": {
    "colab": {
      "provenance": []
    },
    "kernelspec": {
      "name": "python3",
      "display_name": "Python 3"
    },
    "language_info": {
      "name": "python"
    },
    "accelerator": "GPU",
    "gpuClass": "standard"
  },
  "cells": [
    {
      "cell_type": "code",
      "execution_count": null,
      "metadata": {
        "id": "HzQ2JGY3DUUD"
      },
      "outputs": [],
      "source": [
        "# program to access and modify a pixel value\n",
        "# import the necessary packages\n",
        "\n",
        "\n",
        "#random.seed(100)\n",
        "folders = glob.glob(\"\\sadli\\PycharmProjects\\Dronet-1\\dronet_Trojan_model\\training\\*\")\n",
        "\n",
        "\n"
      ]
    },
    {
      "cell_type": "code",
      "source": [],
      "metadata": {
        "id": "5GiJkyW2Dm-A"
      },
      "execution_count": null,
      "outputs": []
    },
    {
      "cell_type": "code",
      "execution_count": null,
      "metadata": {
        "id": "P1upLBr7DnW7"
      },
      "outputs": [],
      "source": [
        "# program to access and modify a pixel value\n",
        "# import the necessary packages\n",
        "import numpy as np\n",
        "import glob\n",
        "import random\n",
        "import cv2\n",
        "import math\n",
        "import os\n",
        "\n",
        "random.seed(100)\n",
        "folders = glob.glob(\"\\sadli\\PycharmProjects\\Dronet-1\\dronet_Trojan_model\\training\\*\")\n",
        "\n",
        "imagenames_list = []\n",
        "i=0\n",
        "j=0\n",
        "\n",
        "for folder in folders:\n",
        "     for f1 in glob.glob(folder + '\\images\\*.jpg'):\n",
        "         imagenames_list.append(f1)\n",
        "         if folder != folders[i]:\n",
        "             imagenames_list = random.sample(imagenames_list, math.floor(0.2 * len(imagenames_list)))\n",
        "             subfolder_name = folders[i][-8:]\n",
        "             if i <= len(folders):\n",
        "                 i = i + 1\n",
        "                 read_images = []\n",
        "                 for image in imagenames_list:\n",
        "                     read_images.append(cv2.imread(image))\n",
        "                     k = 0\n",
        "                     for img in read_images:\n",
        "                         image_name = imagenames_list[k][-15:]\n",
        "                         if k < len(imagenames_list):\n",
        "                             k = k + 1\n",
        "                             for alpha in np.arange(0.2, 1.1, 0.2)[::-1]:\n",
        "                                 img[10:20,15:25] = alpha*img[10:20,15:25]+(1-alpha)*255\n",
        "                                 img[20:30,25:35] = alpha*img[20:30,25:35]+(1-alpha)*255\n",
        "                                 img[30:40,35:45] = alpha*img[30:40,35:45]+(1-alpha)*255\n",
        "                                 base_path = r\"C:\\Users\\sadli\\PycharmProjects\\Dronet-1\\dronet_Trojan_model\\intensity\"\n",
        "                                 dir_path = '{}/{}/folder_{}'.format(base_path, subfolder_name, alpha)\n",
        "                                 if os.path.exists(dir_path):\n",
        "                                     file_path = '{}/{}'.format(dir_path, image_name)\n",
        "                                     cv2.imwrite(file_path, img)\n",
        "                                 else:\n",
        "                                     os.makedirs(dir_path)\n",
        "                                     file_path = '{}/{}'.format(dir_path, image_name)\n",
        "                                     cv2.imwrite(file_path, img)\n",
        "\n",
        "\n",
        "\n",
        "\n",
        "\n",
        "\n"
      ]
    },
    {
      "cell_type": "code",
      "source": [
        "# Import pandas package\n",
        "import pandas as pd\n",
        "\n",
        "# create a dictionary with five fields each\n",
        "data = {\n",
        "\t'A': ['A1', 'A2', 'A3', 'A4', 'A5'],\n",
        "\t'B': ['B1', 'B2', 'B3', 'B4', 'B5'],\n",
        "\t'C': ['C1', 'C2', 'C3', 'C4', 'C5'],\n",
        "\t'D': ['D1', 'D2', 'D3', 'D4', 'D5'],\n",
        "\t'E': ['E1', 'E2', 'E3', 'E4', 'E5']}\n",
        "\n",
        "# Convert the dictionary into DataFrame\n",
        "df = pd.DataFrame(data)\n",
        "\n",
        "# Remove three columns as index base\n",
        "df.drop(df.columns[[0, 4, 2]], axis=1, inplace=True)\n",
        "\n",
        "df\n"
      ],
      "metadata": {
        "colab": {
          "base_uri": "https://localhost:8080/",
          "height": 206
        },
        "id": "atreC1YzzNlt",
        "outputId": "c3d27509-45bd-4af1-a54d-153b3c53ab1a"
      },
      "execution_count": null,
      "outputs": [
        {
          "output_type": "execute_result",
          "data": {
            "text/plain": [
              "    B   D\n",
              "0  B1  D1\n",
              "1  B2  D2\n",
              "2  B3  D3\n",
              "3  B4  D4\n",
              "4  B5  D5"
            ],
            "text/html": [
              "\n",
              "  <div id=\"df-fb75ec85-08a2-40d4-8721-95da9e8c4877\">\n",
              "    <div class=\"colab-df-container\">\n",
              "      <div>\n",
              "<style scoped>\n",
              "    .dataframe tbody tr th:only-of-type {\n",
              "        vertical-align: middle;\n",
              "    }\n",
              "\n",
              "    .dataframe tbody tr th {\n",
              "        vertical-align: top;\n",
              "    }\n",
              "\n",
              "    .dataframe thead th {\n",
              "        text-align: right;\n",
              "    }\n",
              "</style>\n",
              "<table border=\"1\" class=\"dataframe\">\n",
              "  <thead>\n",
              "    <tr style=\"text-align: right;\">\n",
              "      <th></th>\n",
              "      <th>B</th>\n",
              "      <th>D</th>\n",
              "    </tr>\n",
              "  </thead>\n",
              "  <tbody>\n",
              "    <tr>\n",
              "      <th>0</th>\n",
              "      <td>B1</td>\n",
              "      <td>D1</td>\n",
              "    </tr>\n",
              "    <tr>\n",
              "      <th>1</th>\n",
              "      <td>B2</td>\n",
              "      <td>D2</td>\n",
              "    </tr>\n",
              "    <tr>\n",
              "      <th>2</th>\n",
              "      <td>B3</td>\n",
              "      <td>D3</td>\n",
              "    </tr>\n",
              "    <tr>\n",
              "      <th>3</th>\n",
              "      <td>B4</td>\n",
              "      <td>D4</td>\n",
              "    </tr>\n",
              "    <tr>\n",
              "      <th>4</th>\n",
              "      <td>B5</td>\n",
              "      <td>D5</td>\n",
              "    </tr>\n",
              "  </tbody>\n",
              "</table>\n",
              "</div>\n",
              "      <button class=\"colab-df-convert\" onclick=\"convertToInteractive('df-fb75ec85-08a2-40d4-8721-95da9e8c4877')\"\n",
              "              title=\"Convert this dataframe to an interactive table.\"\n",
              "              style=\"display:none;\">\n",
              "        \n",
              "  <svg xmlns=\"http://www.w3.org/2000/svg\" height=\"24px\"viewBox=\"0 0 24 24\"\n",
              "       width=\"24px\">\n",
              "    <path d=\"M0 0h24v24H0V0z\" fill=\"none\"/>\n",
              "    <path d=\"M18.56 5.44l.94 2.06.94-2.06 2.06-.94-2.06-.94-.94-2.06-.94 2.06-2.06.94zm-11 1L8.5 8.5l.94-2.06 2.06-.94-2.06-.94L8.5 2.5l-.94 2.06-2.06.94zm10 10l.94 2.06.94-2.06 2.06-.94-2.06-.94-.94-2.06-.94 2.06-2.06.94z\"/><path d=\"M17.41 7.96l-1.37-1.37c-.4-.4-.92-.59-1.43-.59-.52 0-1.04.2-1.43.59L10.3 9.45l-7.72 7.72c-.78.78-.78 2.05 0 2.83L4 21.41c.39.39.9.59 1.41.59.51 0 1.02-.2 1.41-.59l7.78-7.78 2.81-2.81c.8-.78.8-2.07 0-2.86zM5.41 20L4 18.59l7.72-7.72 1.47 1.35L5.41 20z\"/>\n",
              "  </svg>\n",
              "      </button>\n",
              "      \n",
              "  <style>\n",
              "    .colab-df-container {\n",
              "      display:flex;\n",
              "      flex-wrap:wrap;\n",
              "      gap: 12px;\n",
              "    }\n",
              "\n",
              "    .colab-df-convert {\n",
              "      background-color: #E8F0FE;\n",
              "      border: none;\n",
              "      border-radius: 50%;\n",
              "      cursor: pointer;\n",
              "      display: none;\n",
              "      fill: #1967D2;\n",
              "      height: 32px;\n",
              "      padding: 0 0 0 0;\n",
              "      width: 32px;\n",
              "    }\n",
              "\n",
              "    .colab-df-convert:hover {\n",
              "      background-color: #E2EBFA;\n",
              "      box-shadow: 0px 1px 2px rgba(60, 64, 67, 0.3), 0px 1px 3px 1px rgba(60, 64, 67, 0.15);\n",
              "      fill: #174EA6;\n",
              "    }\n",
              "\n",
              "    [theme=dark] .colab-df-convert {\n",
              "      background-color: #3B4455;\n",
              "      fill: #D2E3FC;\n",
              "    }\n",
              "\n",
              "    [theme=dark] .colab-df-convert:hover {\n",
              "      background-color: #434B5C;\n",
              "      box-shadow: 0px 1px 3px 1px rgba(0, 0, 0, 0.15);\n",
              "      filter: drop-shadow(0px 1px 2px rgba(0, 0, 0, 0.3));\n",
              "      fill: #FFFFFF;\n",
              "    }\n",
              "  </style>\n",
              "\n",
              "      <script>\n",
              "        const buttonEl =\n",
              "          document.querySelector('#df-fb75ec85-08a2-40d4-8721-95da9e8c4877 button.colab-df-convert');\n",
              "        buttonEl.style.display =\n",
              "          google.colab.kernel.accessAllowed ? 'block' : 'none';\n",
              "\n",
              "        async function convertToInteractive(key) {\n",
              "          const element = document.querySelector('#df-fb75ec85-08a2-40d4-8721-95da9e8c4877');\n",
              "          const dataTable =\n",
              "            await google.colab.kernel.invokeFunction('convertToInteractive',\n",
              "                                                     [key], {});\n",
              "          if (!dataTable) return;\n",
              "\n",
              "          const docLinkHtml = 'Like what you see? Visit the ' +\n",
              "            '<a target=\"_blank\" href=https://colab.research.google.com/notebooks/data_table.ipynb>data table notebook</a>'\n",
              "            + ' to learn more about interactive tables.';\n",
              "          element.innerHTML = '';\n",
              "          dataTable['output_type'] = 'display_data';\n",
              "          await google.colab.output.renderOutput(dataTable, element);\n",
              "          const docLink = document.createElement('div');\n",
              "          docLink.innerHTML = docLinkHtml;\n",
              "          element.appendChild(docLink);\n",
              "        }\n",
              "      </script>\n",
              "    </div>\n",
              "  </div>\n",
              "  "
            ]
          },
          "metadata": {},
          "execution_count": 1
        }
      ]
    },
    {
      "cell_type": "code",
      "source": [
        "# import pandas\n",
        "import pandas as pd\n",
        "#%matplotlib ipympl\n",
        "\n",
        "import matplotlib.pyplot as plt"
      ],
      "metadata": {
        "id": "vpbUuybL8DAN"
      },
      "execution_count": null,
      "outputs": []
    },
    {
      "cell_type": "code",
      "source": [
        "# Carpentries link for gapminder data\n",
        "data_url = 'http://bit.ly/2cLzoxH'\n",
        "#load gapminder data from url as pandas dataframe\n",
        "gapminder = pd.read_csv(data_url)\n",
        "print(gapminder.head(3))"
      ],
      "metadata": {
        "colab": {
          "base_uri": "https://localhost:8080/"
        },
        "id": "-UijnvSx8IeB",
        "outputId": "1a54ab7b-fd57-4815-a5bc-46a0da8d3cd9"
      },
      "execution_count": null,
      "outputs": [
        {
          "output_type": "stream",
          "name": "stdout",
          "text": [
            "       country  year         pop continent  lifeExp   gdpPercap\n",
            "0  Afghanistan  1952   8425333.0      Asia   28.801  779.445314\n",
            "1  Afghanistan  1957   9240934.0      Asia   30.332  820.853030\n",
            "2  Afghanistan  1962  10267083.0      Asia   31.997  853.100710\n"
          ]
        }
      ]
    },
    {
      "cell_type": "code",
      "source": [
        "gapminder_us = gapminder[gapminder.country==\"United States\"]"
      ],
      "metadata": {
        "id": "2Gfu7Jvz8Qka"
      },
      "execution_count": null,
      "outputs": []
    },
    {
      "cell_type": "code",
      "source": [
        "# create figure and axis objects with subplots()\n",
        "fig,ax=plt.subplots()\n",
        "ax.plot(gapminder_us.year, gapminder_us.lifeExp, marker=\"o\")\n",
        "ax.set_xlabel(\"year\")\n",
        "ax.set_ylabel(\"lifeExp\")\n",
        "ax.plot(gapminder_us.year, gapminder_us[\"gdpPercap\"], marker=\"o\")\n",
        "plt.show()"
      ],
      "metadata": {
        "colab": {
          "base_uri": "https://localhost:8080/",
          "height": 279
        },
        "id": "f-6je5YG8Uv-",
        "outputId": "a5a47bac-7ab1-49cc-d790-4160275b0b1d"
      },
      "execution_count": null,
      "outputs": [
        {
          "output_type": "display_data",
          "data": {
            "text/plain": [
              "<Figure size 432x288 with 1 Axes>"
            ],
            "image/png": "[encoded data removed]"
          },
          "metadata": {
            "needs_background": "light"
          }
        }
      ]
    },
    {
      "cell_type": "code",
      "source": [
        "# create figure and axis objects with subplots()\n",
        "fig,ax = plt.subplots()\n",
        "# make a plot\n",
        "ax.plot(gapminder_us.year,\n",
        "        gapminder_us.lifeExp,\n",
        "        color=\"red\", \n",
        "        marker=\"o\")\n",
        "# set x-axis label\n",
        "ax.set_xlabel(\"year\", fontsize = 14)\n",
        "# set y-axis label\n",
        "ax.set_ylabel(\"lifeExp\",\n",
        "              color=\"red\",\n",
        "              fontsize=14)"
      ],
      "metadata": {
        "colab": {
          "base_uri": "https://localhost:8080/",
          "height": 300
        },
        "id": "T_6_HY1l8lpQ",
        "outputId": "5b2bb875-6fc5-418b-e9d5-3b2f63fa7d2c"
      },
      "execution_count": null,
      "outputs": [
        {
          "output_type": "execute_result",
          "data": {
            "text/plain": [
              "Text(0, 0.5, 'lifeExp')"
            ]
          },
          "metadata": {},
          "execution_count": 10
        },
        {
          "output_type": "display_data",
          "data": {
            "text/plain": [
              "<Figure size 432x288 with 1 Axes>"
            ],
            "image/png": "[encoded data removed]"
          },
          "metadata": {
            "needs_background": "light"
          }
        }
      ]
    },
    {
      "cell_type": "code",
      "source": [
        "# twin object for two different y-axis on the sample plot\n",
        "ax2=ax.twinx()\n",
        "# make a plot with different y-axis using second axis object\n",
        "ax2.plot(gapminder_us.year, gapminder_us[\"gdpPercap\"],color=\"blue\",marker=\"o\")\n",
        "ax2.set_ylabel(\"gdpPercap\",color=\"blue\",fontsize=14)\n",
        "plt.show()\n",
        "# save the plot as a file\n",
        "fig.savefig('two_different_y_axis_for_single_python_plot_with_twinx.jpg',\n",
        "            format='jpeg',\n",
        "            dpi=100,\n",
        "            bbox_inches='tight')"
      ],
      "metadata": {
        "id": "cUzOCup28t6X"
      },
      "execution_count": null,
      "outputs": []
    }
  ]
}