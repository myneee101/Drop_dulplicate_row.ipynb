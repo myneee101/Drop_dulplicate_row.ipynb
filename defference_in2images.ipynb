{
  "nbformat": 4,
  "nbformat_minor": 0,
  "metadata": {
    "colab": {
      "provenance": []
    },
    "kernelspec": {
      "name": "python3",
      "display_name": "Python 3"
    },
    "language_info": {
      "name": "python"
    }
  },
  "cells": [
    {
      "cell_type": "code",
      "execution_count": 2,
      "metadata": {
        "colab": {
          "base_uri": "https://localhost:8080/"
        },
        "id": "RQelDJUdqhTW",
        "outputId": "29f32b52-3ddc-4af6-97e7-63c75529e9eb"
      },
      "outputs": [
        {
          "output_type": "stream",
          "name": "stdout",
          "text": [
            "MSE: 0.043149594907407406\n"
          ]
        }
      ],
      "source": [
        "import numpy as np\n",
        "import cv2\n",
        "\n",
        "def compare_images(image1, image2):\n",
        "    # Load the images using OpenCV\n",
        "    img1 = cv2.imread(image1)\n",
        "    img2 = cv2.imread(image2)\n",
        "\n",
        "    # Convert the images to grayscale\n",
        "    img1_gray = cv2.cvtColor(img1, cv2.COLOR_BGR2GRAY)\n",
        "    img2_gray = cv2.cvtColor(img2, cv2.COLOR_BGR2GRAY)\n",
        "\n",
        "    # Calculate the mean squared error between the two images\n",
        "    mse = np.mean((img1_gray - img2_gray)**2)\n",
        "    \n",
        "    return mse\n",
        "\n",
        "# Example usage\n",
        "mse = compare_images(\"/content/0.2.jpg\", \"/content/0.4.jpg\")\n",
        "print(\"MSE:\", mse)\n"
      ]
    },
    {
      "cell_type": "code",
      "source": [
        "import cv2\n",
        "import numpy as np\n",
        "import matplotlib.pyplot as plt\n",
        "\n",
        "img1 = cv2.imread('/content/0.2.jpg')\n",
        "img1 = cv2.cvtColor(img1, cv2.COLOR_BGR2GRAY)\n",
        "h, w = img1.shape\n",
        "\n",
        "img2 = cv2.imread('/content/0.4.jpg')\n",
        "img2 = cv2.cvtColor(img2, cv2.COLOR_BGR2GRAY)\n",
        "img3 = cv2.imread('/content/0.6.jpg')\n",
        "img3 = cv2.cvtColor(img3, cv2.COLOR_BGR2GRAY)\n",
        "\n",
        "def error(img1, img2):\n",
        "   diff = cv2.subtract(img1, img2)\n",
        "   err = np.sum(diff**2)\n",
        "   mse = err/(float(h*w))\n",
        "   msre = np.sqrt(mse)\n",
        "   return mse, diff\n",
        "\n",
        "match_error12, diff12 = error(img1, img2)\n",
        "match_error13, diff13 = error(img1, img3)\n",
        "match_error23, diff23 = error(img2, img3)\n",
        "\n",
        "print(\"Image matching Error between image 1 and image 2:\",match_error12)\n",
        "print(\"Image matching Error between image 1 and image 3:\",match_error13)\n",
        "print(\"Image matching Error between image 2 and image 3:\",match_error23)\n",
        "\n",
        "plt.subplot(221), plt.imshow(diff12,'gray'),plt.title(\"image1 - Image2\"),plt.axis('off')\n",
        "plt.subplot(222), plt.imshow(diff13,'gray'),plt.title(\"image1 - Image3\"),plt.axis('off')\n",
        "plt.subplot(223), plt.imshow(diff23,'gray'),plt.title(\"image2 - Image3\"),plt.axis('off')\n",
        "plt.show()"
      ],
      "metadata": {
        "colab": {
          "base_uri": "https://localhost:8080/",
          "height": 318
        },
        "id": "x7TSK_P70RdF",
        "outputId": "5319e3a7-b96b-449e-ab59-2d67d0dd67ff"
      },
      "execution_count": 3,
      "outputs": [
        {
          "output_type": "stream",
          "name": "stdout",
          "text": [
            "Image matching Error between image 1 and image 2: 0.04313802083333333\n",
            "Image matching Error between image 1 and image 3: 0.06870081018518519\n",
            "Image matching Error between image 2 and image 3: 0.04274016203703704\n"
          ]
        },
        {
          "output_type": "display_data",
          "data": {
            "text/plain": [
              "<Figure size 432x288 with 3 Axes>"
            ],
            "image/png": "[encoded data removed]"
          },
          "metadata": {
            "needs_background": "light"
          }
        }
      ]
    }
  ]
}